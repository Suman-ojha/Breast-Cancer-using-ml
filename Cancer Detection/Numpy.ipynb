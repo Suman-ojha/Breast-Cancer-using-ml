{
 "cells": [
  {
   "cell_type": "code",
   "execution_count": 1,
   "id": "e83bdcc5",
   "metadata": {},
   "outputs": [],
   "source": [
    "import numpy as np"
   ]
  },
  {
   "cell_type": "code",
   "execution_count": 2,
   "id": "6274b0e8",
   "metadata": {},
   "outputs": [],
   "source": [
    "#can also define the data type\n",
    "#a=np.array([1,4,7],dtype='int16')\n",
    "a=np.array([1,4,7])"
   ]
  },
  {
   "cell_type": "code",
   "execution_count": 3,
   "id": "10b0f813",
   "metadata": {},
   "outputs": [],
   "source": [
    "b=np.array([1,5,9])"
   ]
  },
  {
   "cell_type": "code",
   "execution_count": 4,
   "id": "6fde492e",
   "metadata": {},
   "outputs": [
    {
     "name": "stdout",
     "output_type": "stream",
     "text": [
      "[ 1 20 63]\n"
     ]
    }
   ],
   "source": [
    "print(a*b)"
   ]
  },
  {
   "cell_type": "code",
   "execution_count": 5,
   "id": "d5bb5614",
   "metadata": {},
   "outputs": [
    {
     "data": {
      "text/plain": [
       "1"
      ]
     },
     "execution_count": 5,
     "metadata": {},
     "output_type": "execute_result"
    }
   ],
   "source": [
    "#gives dimension\n",
    "a.ndim"
   ]
  },
  {
   "cell_type": "code",
   "execution_count": 6,
   "id": "244b6bb2",
   "metadata": {},
   "outputs": [],
   "source": [
    "c=np.array([[1,4,7],[4,6,8]])"
   ]
  },
  {
   "cell_type": "code",
   "execution_count": 7,
   "id": "938b41ec",
   "metadata": {},
   "outputs": [
    {
     "data": {
      "text/plain": [
       "2"
      ]
     },
     "execution_count": 7,
     "metadata": {},
     "output_type": "execute_result"
    }
   ],
   "source": [
    "c.ndim"
   ]
  },
  {
   "cell_type": "code",
   "execution_count": 8,
   "id": "542f66b7",
   "metadata": {},
   "outputs": [
    {
     "data": {
      "text/plain": [
       "(2, 3)"
      ]
     },
     "execution_count": 8,
     "metadata": {},
     "output_type": "execute_result"
    }
   ],
   "source": [
    "#get shape\n",
    "c.shape"
   ]
  },
  {
   "cell_type": "code",
   "execution_count": 9,
   "id": "7ae63b3b",
   "metadata": {},
   "outputs": [
    {
     "data": {
      "text/plain": [
       "(3,)"
      ]
     },
     "execution_count": 9,
     "metadata": {},
     "output_type": "execute_result"
    }
   ],
   "source": [
    "a.shape"
   ]
  },
  {
   "cell_type": "code",
   "execution_count": 10,
   "id": "def21e33",
   "metadata": {},
   "outputs": [
    {
     "data": {
      "text/plain": [
       "dtype('int64')"
      ]
     },
     "execution_count": 10,
     "metadata": {},
     "output_type": "execute_result"
    }
   ],
   "source": [
    "#gives data type\n",
    "a.dtype"
   ]
  },
  {
   "cell_type": "code",
   "execution_count": 11,
   "id": "3d25036b",
   "metadata": {},
   "outputs": [
    {
     "data": {
      "text/plain": [
       "8"
      ]
     },
     "execution_count": 11,
     "metadata": {},
     "output_type": "execute_result"
    }
   ],
   "source": [
    "#get the size of each data \n",
    "a.itemsize"
   ]
  },
  {
   "cell_type": "code",
   "execution_count": 12,
   "id": "1c910de4",
   "metadata": {},
   "outputs": [
    {
     "data": {
      "text/plain": [
       "24"
      ]
     },
     "execution_count": 12,
     "metadata": {},
     "output_type": "execute_result"
    }
   ],
   "source": [
    "#get total size\n",
    "a.nbytes"
   ]
  },
  {
   "cell_type": "code",
   "execution_count": 13,
   "id": "d1ddc7a5",
   "metadata": {},
   "outputs": [
    {
     "data": {
      "text/plain": [
       "48"
      ]
     },
     "execution_count": 13,
     "metadata": {},
     "output_type": "execute_result"
    }
   ],
   "source": [
    "c.nbytes"
   ]
  },
  {
   "cell_type": "code",
   "execution_count": 15,
   "id": "6d16f73a",
   "metadata": {},
   "outputs": [
    {
     "name": "stdout",
     "output_type": "stream",
     "text": [
      "[[ 1  2  3  4  5]\n",
      " [ 6  7  8  9 10]]\n"
     ]
    }
   ],
   "source": [
    "d=np.array([[1,2,3,4,5],[6,7,8,9,10]])\n",
    "print(d)"
   ]
  },
  {
   "cell_type": "code",
   "execution_count": 16,
   "id": "aa4b2cc9",
   "metadata": {},
   "outputs": [
    {
     "data": {
      "text/plain": [
       "array([1, 2, 3, 4, 5])"
      ]
     },
     "execution_count": 16,
     "metadata": {},
     "output_type": "execute_result"
    }
   ],
   "source": [
    "#get the specific row\n",
    "d[0,:]"
   ]
  },
  {
   "cell_type": "code",
   "execution_count": 17,
   "id": "5e7de624",
   "metadata": {},
   "outputs": [
    {
     "data": {
      "text/plain": [
       "array([4, 9])"
      ]
     },
     "execution_count": 17,
     "metadata": {},
     "output_type": "execute_result"
    }
   ],
   "source": [
    "#get the specific column\n",
    "d[:,3]"
   ]
  },
  {
   "cell_type": "code",
   "execution_count": 18,
   "id": "62f35867",
   "metadata": {},
   "outputs": [
    {
     "data": {
      "text/plain": [
       "9"
      ]
     },
     "execution_count": 18,
     "metadata": {},
     "output_type": "execute_result"
    }
   ],
   "source": [
    "#access the speific element \n",
    "d[1,3]"
   ]
  },
  {
   "cell_type": "code",
   "execution_count": 21,
   "id": "aa1d2f54",
   "metadata": {},
   "outputs": [
    {
     "data": {
      "text/plain": [
       "array([2, 4])"
      ]
     },
     "execution_count": 21,
     "metadata": {},
     "output_type": "execute_result"
    }
   ],
   "source": [
    " #little more complex..[startIndex:EndIndex:StepSize]\n",
    "d[0,1:5:2]"
   ]
  },
  {
   "cell_type": "code",
   "execution_count": 25,
   "id": "a8b4bd73",
   "metadata": {},
   "outputs": [
    {
     "name": "stdout",
     "output_type": "stream",
     "text": [
      "[[ 1  2 12  4  5]\n",
      " [ 6  7 12  9 10]]\n",
      "[[ 1  2  3  4  5]\n",
      " [ 6  7  0  9 10]]\n"
     ]
    }
   ],
   "source": [
    "#change the column elements\n",
    "d[:,2]=12\n",
    "print(d)\n",
    "\n",
    "#with given shape \n",
    "d[:,2]=[3,0]\n",
    "print(d)"
   ]
  },
  {
   "cell_type": "code",
   "execution_count": 30,
   "id": "5775edb5",
   "metadata": {},
   "outputs": [
    {
     "data": {
      "text/plain": [
       "array([[[0., 0., 0.],\n",
       "        [0., 0., 0.],\n",
       "        [0., 0., 0.]],\n",
       "\n",
       "       [[0., 0., 0.],\n",
       "        [0., 0., 0.],\n",
       "        [0., 0., 0.]]])"
      ]
     },
     "execution_count": 30,
     "metadata": {},
     "output_type": "execute_result"
    }
   ],
   "source": [
    "#all zeros \n",
    "np.zeros((2,3,3))"
   ]
  },
  {
   "cell_type": "code",
   "execution_count": 31,
   "id": "fe6236fe",
   "metadata": {},
   "outputs": [
    {
     "data": {
      "text/plain": [
       "array([[[1., 1., 1.],\n",
       "        [1., 1., 1.],\n",
       "        [1., 1., 1.]],\n",
       "\n",
       "       [[1., 1., 1.],\n",
       "        [1., 1., 1.],\n",
       "        [1., 1., 1.]]])"
      ]
     },
     "execution_count": 31,
     "metadata": {},
     "output_type": "execute_result"
    }
   ],
   "source": [
    "#all ones\n",
    "np.ones((2,3,3))"
   ]
  },
  {
   "cell_type": "code",
   "execution_count": 34,
   "id": "a5264d0d",
   "metadata": {},
   "outputs": [
    {
     "data": {
      "text/plain": [
       "array([[[23, 23, 23],\n",
       "        [23, 23, 23],\n",
       "        [23, 23, 23]],\n",
       "\n",
       "       [[23, 23, 23],\n",
       "        [23, 23, 23],\n",
       "        [23, 23, 23]]])"
      ]
     },
     "execution_count": 34,
     "metadata": {},
     "output_type": "execute_result"
    }
   ],
   "source": [
    "#any other number....(shape,number)\n",
    "np.full((2,3,3),23)"
   ]
  },
  {
   "cell_type": "code",
   "execution_count": 36,
   "id": "e46336ca",
   "metadata": {},
   "outputs": [
    {
     "data": {
      "text/plain": [
       "array([[12, 12, 12],\n",
       "       [12, 12, 12]])"
      ]
     },
     "execution_count": 36,
     "metadata": {},
     "output_type": "execute_result"
    }
   ],
   "source": [
    "#change all elements to a number(full_like)\n",
    "np.full_like(c,12)"
   ]
  },
  {
   "cell_type": "code",
   "execution_count": 37,
   "id": "66ae2a07",
   "metadata": {},
   "outputs": [
    {
     "data": {
      "text/plain": [
       "array([[0.91846903, 0.4372216 , 0.58168411],\n",
       "       [0.78094552, 0.86165423, 0.25457008],\n",
       "       [0.10889144, 0.76555888, 0.5309405 ]])"
      ]
     },
     "execution_count": 37,
     "metadata": {},
     "output_type": "execute_result"
    }
   ],
   "source": [
    "#random number(shape)\n",
    "np.random.rand(3,3)"
   ]
  },
  {
   "cell_type": "code",
   "execution_count": 42,
   "id": "3325b0c7",
   "metadata": {},
   "outputs": [
    {
     "data": {
      "text/plain": [
       "array([[9, 9, 8],\n",
       "       [8, 8, 8],\n",
       "       [8, 9, 9]])"
      ]
     },
     "execution_count": 42,
     "metadata": {},
     "output_type": "execute_result"
    }
   ],
   "source": [
    "#random interger value with some range(range,shape)->range(start,end)-->exclusive end\n",
    "np.random.randint(8,10,size=(3,3))"
   ]
  },
  {
   "cell_type": "code",
   "execution_count": 40,
   "id": "9c56df6e",
   "metadata": {},
   "outputs": [
    {
     "data": {
      "text/plain": [
       "array([[1., 0., 0., 0.],\n",
       "       [0., 1., 0., 0.],\n",
       "       [0., 0., 1., 0.],\n",
       "       [0., 0., 0., 1.]])"
      ]
     },
     "execution_count": 40,
     "metadata": {},
     "output_type": "execute_result"
    }
   ],
   "source": [
    "#identity matrix,,(length)\n",
    "np.identity(4)"
   ]
  },
  {
   "cell_type": "code",
   "execution_count": 45,
   "id": "34e23f44",
   "metadata": {},
   "outputs": [
    {
     "name": "stdout",
     "output_type": "stream",
     "text": [
      "[[1 2 3]\n",
      " [1 2 3]\n",
      " [1 2 3]\n",
      " [1 2 3]]\n"
     ]
    }
   ],
   "source": [
    "#repeat the array(array,no of repeats,axis=0(default))\n",
    "arr=np.array([[1,2,3]])\n",
    "r1=np.repeat(arr,4,axis=0)\n",
    "print(r1)"
   ]
  },
  {
   "cell_type": "code",
   "execution_count": 61,
   "id": "67d3b816",
   "metadata": {},
   "outputs": [
    {
     "name": "stdout",
     "output_type": "stream",
     "text": [
      "[[1. 1. 1. 1. 1.]\n",
      " [1. 0. 0. 0. 1.]\n",
      " [1. 0. 9. 0. 1.]\n",
      " [1. 0. 0. 0. 1.]\n",
      " [1. 1. 1. 1. 1.]]\n"
     ]
    }
   ],
   "source": [
    "ar=np.ones((5,5))\n",
    "#print(ar)\n",
    "ar[1:-1,1:-1]=0\n",
    "ar[2,2]=9\n",
    "print(ar)"
   ]
  },
  {
   "cell_type": "markdown",
   "id": "4eac0b27",
   "metadata": {},
   "source": [
    "# Be carefull while copying the array"
   ]
  },
  {
   "cell_type": "code",
   "execution_count": 64,
   "id": "722479d8",
   "metadata": {},
   "outputs": [
    {
     "name": "stdout",
     "output_type": "stream",
     "text": [
      "[12  3  4]\n"
     ]
    }
   ],
   "source": [
    "a=np.array([1,3,4])\n",
    "\n",
    "b=a\n",
    "b[0]=12\n",
    "print(a)"
   ]
  },
  {
   "cell_type": "code",
   "execution_count": 65,
   "id": "48ee46f0",
   "metadata": {},
   "outputs": [
    {
     "name": "stdout",
     "output_type": "stream",
     "text": [
      "[2 5 7]\n",
      "[31  5  7]\n"
     ]
    }
   ],
   "source": [
    "#to remove the issue ..make copy of that array\n",
    "a=np.array([2,5,7])\n",
    "b=a.copy()\n",
    "b[0]=31\n",
    "print(a)\n",
    "print(b)"
   ]
  },
  {
   "cell_type": "markdown",
   "id": "7c53733b",
   "metadata": {},
   "source": [
    "# Mathematics\n"
   ]
  },
  {
   "cell_type": "code",
   "execution_count": 66,
   "id": "4fc2f403",
   "metadata": {},
   "outputs": [
    {
     "data": {
      "text/plain": [
       "array([ 6, 10, 12, 14, 16])"
      ]
     },
     "execution_count": 66,
     "metadata": {},
     "output_type": "execute_result"
    }
   ],
   "source": [
    "#whatever we will do,,,will effect all the elements \n",
    "a=np.array([3,5,6,7,8])\n",
    "a*2\n",
    "\n"
   ]
  },
  {
   "cell_type": "code",
   "execution_count": 67,
   "id": "4e675c90",
   "metadata": {},
   "outputs": [
    {
     "name": "stdout",
     "output_type": "stream",
     "text": [
      "[ 9 25 36 49 64]\n"
     ]
    }
   ],
   "source": [
    "print(a**2)"
   ]
  },
  {
   "cell_type": "markdown",
   "id": "a1c42a31",
   "metadata": {},
   "source": [
    "#Statistics\n"
   ]
  },
  {
   "cell_type": "code",
   "execution_count": 68,
   "id": "45368f05",
   "metadata": {},
   "outputs": [
    {
     "data": {
      "text/plain": [
       "array([[1, 2, 4],\n",
       "       [3, 5, 7]])"
      ]
     },
     "execution_count": 68,
     "metadata": {},
     "output_type": "execute_result"
    }
   ],
   "source": [
    "states=np.array([[1,2,4],[3,5,7]])\n",
    "states\n"
   ]
  },
  {
   "cell_type": "code",
   "execution_count": 69,
   "id": "1cc03ac4",
   "metadata": {},
   "outputs": [
    {
     "data": {
      "text/plain": [
       "1"
      ]
     },
     "execution_count": 69,
     "metadata": {},
     "output_type": "execute_result"
    }
   ],
   "source": [
    "np.min(states)"
   ]
  },
  {
   "cell_type": "markdown",
   "id": "57fa1b4f",
   "metadata": {},
   "source": [
    "np.max(states)"
   ]
  },
  {
   "cell_type": "code",
   "execution_count": 71,
   "id": "1e840ee2",
   "metadata": {},
   "outputs": [
    {
     "data": {
      "text/plain": [
       "22"
      ]
     },
     "execution_count": 71,
     "metadata": {},
     "output_type": "execute_result"
    }
   ],
   "source": [
    "np.sum(states)"
   ]
  },
  {
   "cell_type": "markdown",
   "id": "672a1fb6",
   "metadata": {},
   "source": [
    "# Reorganazing the array\n"
   ]
  },
  {
   "cell_type": "code",
   "execution_count": 77,
   "id": "5015ab42",
   "metadata": {},
   "outputs": [
    {
     "name": "stdout",
     "output_type": "stream",
     "text": [
      "[[1 2 3 4]\n",
      " [5 6 7 8]]\n",
      "[[1 2]\n",
      " [3 4]\n",
      " [5 6]\n",
      " [7 8]]\n"
     ]
    }
   ],
   "source": [
    "before=np.array([[1,2,3,4],[5,6,7,8]])\n",
    "print(before)\n",
    "\n",
    "#make it 4,2 shape\n",
    "after=before.reshape((4,2))\n",
    "print(after)"
   ]
  },
  {
   "cell_type": "code",
   "execution_count": null,
   "id": "a72445a4",
   "metadata": {},
   "outputs": [],
   "source": []
  }
 ],
 "metadata": {
  "kernelspec": {
   "display_name": "Python 3 (ipykernel)",
   "language": "python",
   "name": "python3"
  },
  "language_info": {
   "codemirror_mode": {
    "name": "ipython",
    "version": 3
   },
   "file_extension": ".py",
   "mimetype": "text/x-python",
   "name": "python",
   "nbconvert_exporter": "python",
   "pygments_lexer": "ipython3",
   "version": "3.10.6"
  }
 },
 "nbformat": 4,
 "nbformat_minor": 5
}
