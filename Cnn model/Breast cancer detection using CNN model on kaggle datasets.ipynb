{
 "cells": [
  {
   "cell_type": "code",
   "execution_count": 5,
   "id": "c90305e1",
   "metadata": {},
   "outputs": [],
   "source": [
    "import tensorflow as tf\n",
    "from tensorflow.keras import Sequential\n",
    "from tensorflow.keras.layers import Conv1D, MaxPool1D,Flatten,Dense,Dropout,BatchNormalization\n",
    "from tensorflow.keras.optimizers import Adam"
   ]
  },
  {
   "cell_type": "code",
   "execution_count": 6,
   "id": "d285e45d",
   "metadata": {},
   "outputs": [],
   "source": [
    "import numpy as np\n",
    "import pandas as pd\n",
    "import matplotlib.pyplot as plt\n",
    "import seaborn as sns"
   ]
  },
  {
   "cell_type": "code",
   "execution_count": 7,
   "id": "6ed8d6cb",
   "metadata": {},
   "outputs": [],
   "source": [
    "from sklearn import datasets,metrics\n",
    "from sklearn.model_selection import train_test_split\n",
    "from sklearn.preprocessing import StandardScaler"
   ]
  },
  {
   "cell_type": "code",
   "execution_count": 22,
   "id": "cbc7ab52",
   "metadata": {},
   "outputs": [],
   "source": [
    "# cancerData = pd.read_csv('data1.csv')\n",
    "# cancerData.shape\n",
    "cancerData = datasets.load_breast_cancer()"
   ]
  },
  {
   "cell_type": "code",
   "execution_count": 20,
   "id": "8531ae7c",
   "metadata": {},
   "outputs": [],
   "source": [
    "cancerData = pd.DataFrame(cancerData )"
   ]
  },
  {
   "cell_type": "code",
   "execution_count": 23,
   "id": "546319e1",
   "metadata": {},
   "outputs": [
    {
     "data": {
      "text/html": [
       "<div>\n",
       "<style scoped>\n",
       "    .dataframe tbody tr th:only-of-type {\n",
       "        vertical-align: middle;\n",
       "    }\n",
       "\n",
       "    .dataframe tbody tr th {\n",
       "        vertical-align: top;\n",
       "    }\n",
       "\n",
       "    .dataframe thead th {\n",
       "        text-align: right;\n",
       "    }\n",
       "</style>\n",
       "<table border=\"1\" class=\"dataframe\">\n",
       "  <thead>\n",
       "    <tr style=\"text-align: right;\">\n",
       "      <th></th>\n",
       "      <th>mean radius</th>\n",
       "      <th>mean texture</th>\n",
       "      <th>mean perimeter</th>\n",
       "      <th>mean area</th>\n",
       "      <th>mean smoothness</th>\n",
       "      <th>mean compactness</th>\n",
       "      <th>mean concavity</th>\n",
       "      <th>mean concave points</th>\n",
       "      <th>mean symmetry</th>\n",
       "      <th>mean fractal dimension</th>\n",
       "      <th>...</th>\n",
       "      <th>worst radius</th>\n",
       "      <th>worst texture</th>\n",
       "      <th>worst perimeter</th>\n",
       "      <th>worst area</th>\n",
       "      <th>worst smoothness</th>\n",
       "      <th>worst compactness</th>\n",
       "      <th>worst concavity</th>\n",
       "      <th>worst concave points</th>\n",
       "      <th>worst symmetry</th>\n",
       "      <th>worst fractal dimension</th>\n",
       "    </tr>\n",
       "  </thead>\n",
       "  <tbody>\n",
       "    <tr>\n",
       "      <th>0</th>\n",
       "      <td>17.99</td>\n",
       "      <td>10.38</td>\n",
       "      <td>122.80</td>\n",
       "      <td>1001.0</td>\n",
       "      <td>0.11840</td>\n",
       "      <td>0.27760</td>\n",
       "      <td>0.3001</td>\n",
       "      <td>0.14710</td>\n",
       "      <td>0.2419</td>\n",
       "      <td>0.07871</td>\n",
       "      <td>...</td>\n",
       "      <td>25.38</td>\n",
       "      <td>17.33</td>\n",
       "      <td>184.60</td>\n",
       "      <td>2019.0</td>\n",
       "      <td>0.1622</td>\n",
       "      <td>0.6656</td>\n",
       "      <td>0.7119</td>\n",
       "      <td>0.2654</td>\n",
       "      <td>0.4601</td>\n",
       "      <td>0.11890</td>\n",
       "    </tr>\n",
       "    <tr>\n",
       "      <th>1</th>\n",
       "      <td>20.57</td>\n",
       "      <td>17.77</td>\n",
       "      <td>132.90</td>\n",
       "      <td>1326.0</td>\n",
       "      <td>0.08474</td>\n",
       "      <td>0.07864</td>\n",
       "      <td>0.0869</td>\n",
       "      <td>0.07017</td>\n",
       "      <td>0.1812</td>\n",
       "      <td>0.05667</td>\n",
       "      <td>...</td>\n",
       "      <td>24.99</td>\n",
       "      <td>23.41</td>\n",
       "      <td>158.80</td>\n",
       "      <td>1956.0</td>\n",
       "      <td>0.1238</td>\n",
       "      <td>0.1866</td>\n",
       "      <td>0.2416</td>\n",
       "      <td>0.1860</td>\n",
       "      <td>0.2750</td>\n",
       "      <td>0.08902</td>\n",
       "    </tr>\n",
       "    <tr>\n",
       "      <th>2</th>\n",
       "      <td>19.69</td>\n",
       "      <td>21.25</td>\n",
       "      <td>130.00</td>\n",
       "      <td>1203.0</td>\n",
       "      <td>0.10960</td>\n",
       "      <td>0.15990</td>\n",
       "      <td>0.1974</td>\n",
       "      <td>0.12790</td>\n",
       "      <td>0.2069</td>\n",
       "      <td>0.05999</td>\n",
       "      <td>...</td>\n",
       "      <td>23.57</td>\n",
       "      <td>25.53</td>\n",
       "      <td>152.50</td>\n",
       "      <td>1709.0</td>\n",
       "      <td>0.1444</td>\n",
       "      <td>0.4245</td>\n",
       "      <td>0.4504</td>\n",
       "      <td>0.2430</td>\n",
       "      <td>0.3613</td>\n",
       "      <td>0.08758</td>\n",
       "    </tr>\n",
       "    <tr>\n",
       "      <th>3</th>\n",
       "      <td>11.42</td>\n",
       "      <td>20.38</td>\n",
       "      <td>77.58</td>\n",
       "      <td>386.1</td>\n",
       "      <td>0.14250</td>\n",
       "      <td>0.28390</td>\n",
       "      <td>0.2414</td>\n",
       "      <td>0.10520</td>\n",
       "      <td>0.2597</td>\n",
       "      <td>0.09744</td>\n",
       "      <td>...</td>\n",
       "      <td>14.91</td>\n",
       "      <td>26.50</td>\n",
       "      <td>98.87</td>\n",
       "      <td>567.7</td>\n",
       "      <td>0.2098</td>\n",
       "      <td>0.8663</td>\n",
       "      <td>0.6869</td>\n",
       "      <td>0.2575</td>\n",
       "      <td>0.6638</td>\n",
       "      <td>0.17300</td>\n",
       "    </tr>\n",
       "    <tr>\n",
       "      <th>4</th>\n",
       "      <td>20.29</td>\n",
       "      <td>14.34</td>\n",
       "      <td>135.10</td>\n",
       "      <td>1297.0</td>\n",
       "      <td>0.10030</td>\n",
       "      <td>0.13280</td>\n",
       "      <td>0.1980</td>\n",
       "      <td>0.10430</td>\n",
       "      <td>0.1809</td>\n",
       "      <td>0.05883</td>\n",
       "      <td>...</td>\n",
       "      <td>22.54</td>\n",
       "      <td>16.67</td>\n",
       "      <td>152.20</td>\n",
       "      <td>1575.0</td>\n",
       "      <td>0.1374</td>\n",
       "      <td>0.2050</td>\n",
       "      <td>0.4000</td>\n",
       "      <td>0.1625</td>\n",
       "      <td>0.2364</td>\n",
       "      <td>0.07678</td>\n",
       "    </tr>\n",
       "  </tbody>\n",
       "</table>\n",
       "<p>5 rows × 30 columns</p>\n",
       "</div>"
      ],
      "text/plain": [
       "   mean radius  mean texture  mean perimeter  mean area  mean smoothness  \\\n",
       "0        17.99         10.38          122.80     1001.0          0.11840   \n",
       "1        20.57         17.77          132.90     1326.0          0.08474   \n",
       "2        19.69         21.25          130.00     1203.0          0.10960   \n",
       "3        11.42         20.38           77.58      386.1          0.14250   \n",
       "4        20.29         14.34          135.10     1297.0          0.10030   \n",
       "\n",
       "   mean compactness  mean concavity  mean concave points  mean symmetry  \\\n",
       "0           0.27760          0.3001              0.14710         0.2419   \n",
       "1           0.07864          0.0869              0.07017         0.1812   \n",
       "2           0.15990          0.1974              0.12790         0.2069   \n",
       "3           0.28390          0.2414              0.10520         0.2597   \n",
       "4           0.13280          0.1980              0.10430         0.1809   \n",
       "\n",
       "   mean fractal dimension  ...  worst radius  worst texture  worst perimeter  \\\n",
       "0                 0.07871  ...         25.38          17.33           184.60   \n",
       "1                 0.05667  ...         24.99          23.41           158.80   \n",
       "2                 0.05999  ...         23.57          25.53           152.50   \n",
       "3                 0.09744  ...         14.91          26.50            98.87   \n",
       "4                 0.05883  ...         22.54          16.67           152.20   \n",
       "\n",
       "   worst area  worst smoothness  worst compactness  worst concavity  \\\n",
       "0      2019.0            0.1622             0.6656           0.7119   \n",
       "1      1956.0            0.1238             0.1866           0.2416   \n",
       "2      1709.0            0.1444             0.4245           0.4504   \n",
       "3       567.7            0.2098             0.8663           0.6869   \n",
       "4      1575.0            0.1374             0.2050           0.4000   \n",
       "\n",
       "   worst concave points  worst symmetry  worst fractal dimension  \n",
       "0                0.2654          0.4601                  0.11890  \n",
       "1                0.1860          0.2750                  0.08902  \n",
       "2                0.2430          0.3613                  0.08758  \n",
       "3                0.2575          0.6638                  0.17300  \n",
       "4                0.1625          0.2364                  0.07678  \n",
       "\n",
       "[5 rows x 30 columns]"
      ]
     },
     "execution_count": 23,
     "metadata": {},
     "output_type": "execute_result"
    }
   ],
   "source": [
    "X = pd.DataFrame(data = cancerData.data, columns=cancerData.feature_names )\n",
    "X.head()"
   ]
  },
  {
   "cell_type": "code",
   "execution_count": 17,
   "id": "1bea3653",
   "metadata": {},
   "outputs": [
    {
     "name": "stdout",
     "output_type": "stream",
     "text": [
      "<class 'pandas.core.frame.DataFrame'>\n",
      "RangeIndex: 569 entries, 0 to 568\n",
      "Data columns (total 33 columns):\n",
      " #   Column                   Non-Null Count  Dtype  \n",
      "---  ------                   --------------  -----  \n",
      " 0   id                       569 non-null    int64  \n",
      " 1   diagnosis                569 non-null    object \n",
      " 2   radius_mean              569 non-null    float64\n",
      " 3   texture_mean             569 non-null    float64\n",
      " 4   perimeter_mean           569 non-null    float64\n",
      " 5   area_mean                569 non-null    float64\n",
      " 6   smoothness_mean          569 non-null    float64\n",
      " 7   compactness_mean         569 non-null    float64\n",
      " 8   concavity_mean           569 non-null    float64\n",
      " 9   concave points_mean      569 non-null    float64\n",
      " 10  symmetry_mean            569 non-null    float64\n",
      " 11  fractal_dimension_mean   569 non-null    float64\n",
      " 12  radius_se                569 non-null    float64\n",
      " 13  texture_se               569 non-null    float64\n",
      " 14  perimeter_se             569 non-null    float64\n",
      " 15  area_se                  569 non-null    float64\n",
      " 16  smoothness_se            569 non-null    float64\n",
      " 17  compactness_se           569 non-null    float64\n",
      " 18  concavity_se             569 non-null    float64\n",
      " 19  concave points_se        569 non-null    float64\n",
      " 20  symmetry_se              569 non-null    float64\n",
      " 21  fractal_dimension_se     569 non-null    float64\n",
      " 22  radius_worst             569 non-null    float64\n",
      " 23  texture_worst            569 non-null    float64\n",
      " 24  perimeter_worst          569 non-null    float64\n",
      " 25  area_worst               569 non-null    float64\n",
      " 26  smoothness_worst         569 non-null    float64\n",
      " 27  compactness_worst        569 non-null    float64\n",
      " 28  concavity_worst          569 non-null    float64\n",
      " 29  concave points_worst     569 non-null    float64\n",
      " 30  symmetry_worst           569 non-null    float64\n",
      " 31  fractal_dimension_worst  569 non-null    float64\n",
      " 32  Unnamed: 32              0 non-null      float64\n",
      "dtypes: float64(31), int64(1), object(1)\n",
      "memory usage: 146.8+ KB\n"
     ]
    }
   ],
   "source": [
    "cancerData.info()\n"
   ]
  },
  {
   "cell_type": "code",
   "execution_count": 24,
   "id": "2a01db16",
   "metadata": {},
   "outputs": [],
   "source": [
    "y = cancerData.target"
   ]
  },
  {
   "cell_type": "code",
   "execution_count": 25,
   "id": "7f66d903",
   "metadata": {},
   "outputs": [
    {
     "data": {
      "text/plain": [
       "(569, 30)"
      ]
     },
     "execution_count": 25,
     "metadata": {},
     "output_type": "execute_result"
    }
   ],
   "source": [
    "X.shape"
   ]
  },
  {
   "cell_type": "markdown",
   "id": "6b788f8e",
   "metadata": {},
   "source": [
    "# spiliting the dataset"
   ]
  },
  {
   "cell_type": "code",
   "execution_count": 53,
   "id": "f13a23ad",
   "metadata": {},
   "outputs": [],
   "source": [
    "X_train,X_test,y_train,y_test= train_test_split(X,y,test_size=0.2,stratify=y)"
   ]
  },
  {
   "cell_type": "code",
   "execution_count": 54,
   "id": "d098632f",
   "metadata": {},
   "outputs": [
    {
     "data": {
      "text/plain": [
       "(455, 30)"
      ]
     },
     "execution_count": 54,
     "metadata": {},
     "output_type": "execute_result"
    }
   ],
   "source": [
    "X_train.shape"
   ]
  },
  {
   "cell_type": "code",
   "execution_count": 55,
   "id": "b8b638b9",
   "metadata": {},
   "outputs": [
    {
     "data": {
      "text/plain": [
       "(114,)"
      ]
     },
     "execution_count": 55,
     "metadata": {},
     "output_type": "execute_result"
    }
   ],
   "source": [
    "y_test.shape"
   ]
  },
  {
   "cell_type": "markdown",
   "id": "bde39db5",
   "metadata": {},
   "source": [
    "#Applying StandardScaler()"
   ]
  },
  {
   "cell_type": "code",
   "execution_count": 56,
   "id": "b23b9c38",
   "metadata": {},
   "outputs": [],
   "source": [
    "scaler = StandardScaler()"
   ]
  },
  {
   "cell_type": "code",
   "execution_count": 57,
   "id": "a9c4fb95",
   "metadata": {},
   "outputs": [],
   "source": [
    "X_train = scaler.fit_transform(X_train)\n",
    "X_test = scaler.transform(X_test)"
   ]
  },
  {
   "cell_type": "markdown",
   "id": "f077e0a9",
   "metadata": {},
   "source": [
    "# Reshaping the dataset to 3-D to pass it through CNN"
   ]
  },
  {
   "cell_type": "code",
   "execution_count": 58,
   "id": "059ef4fd",
   "metadata": {},
   "outputs": [],
   "source": [
    "X_train = X_train.reshape(455,30,1)\n",
    "X_test = X_test.reshape(114,30,1)"
   ]
  },
  {
   "cell_type": "markdown",
   "id": "ef97b938",
   "metadata": {},
   "source": [
    "# Preparing the Model"
   ]
  },
  {
   "cell_type": "code",
   "execution_count": 59,
   "id": "c927e163",
   "metadata": {},
   "outputs": [],
   "source": [
    "model = Sequential()\n",
    "model.add(Conv1D(filters=16,kernel_size=2,activation='relu',input_shape=(30,1)))\n",
    "model.add(BatchNormalization())\n",
    "model.add(Dropout(0.2))\n",
    "\n",
    "model.add(Conv1D(32,2,activation='relu'))\n",
    "model.add(BatchNormalization())\n",
    "model.add(Dropout(0.2))\n",
    "\n",
    "model.add(Flatten())\n",
    "model.add(Dense(32,activation='relu'))\n",
    "model.add(Dropout(0.2))\n",
    "\n",
    "model.add(Dense(1,activation='sigmoid'))"
   ]
  },
  {
   "cell_type": "code",
   "execution_count": 60,
   "id": "c233daf5",
   "metadata": {},
   "outputs": [
    {
     "name": "stdout",
     "output_type": "stream",
     "text": [
      "Model: \"sequential_1\"\n",
      "_________________________________________________________________\n",
      " Layer (type)                Output Shape              Param #   \n",
      "=================================================================\n",
      " conv1d_2 (Conv1D)           (None, 29, 16)            48        \n",
      "                                                                 \n",
      " batch_normalization_2 (Batc  (None, 29, 16)           64        \n",
      " hNormalization)                                                 \n",
      "                                                                 \n",
      " dropout_3 (Dropout)         (None, 29, 16)            0         \n",
      "                                                                 \n",
      " conv1d_3 (Conv1D)           (None, 28, 32)            1056      \n",
      "                                                                 \n",
      " batch_normalization_3 (Batc  (None, 28, 32)           128       \n",
      " hNormalization)                                                 \n",
      "                                                                 \n",
      " dropout_4 (Dropout)         (None, 28, 32)            0         \n",
      "                                                                 \n",
      " flatten_1 (Flatten)         (None, 896)               0         \n",
      "                                                                 \n",
      " dense_2 (Dense)             (None, 32)                28704     \n",
      "                                                                 \n",
      " dropout_5 (Dropout)         (None, 32)                0         \n",
      "                                                                 \n",
      " dense_3 (Dense)             (None, 1)                 33        \n",
      "                                                                 \n",
      "=================================================================\n",
      "Total params: 30,033\n",
      "Trainable params: 29,937\n",
      "Non-trainable params: 96\n",
      "_________________________________________________________________\n"
     ]
    }
   ],
   "source": [
    "model.summary()"
   ]
  },
  {
   "cell_type": "code",
   "execution_count": 61,
   "id": "9730afa0",
   "metadata": {},
   "outputs": [],
   "source": [
    "model.compile(optimizer=Adam(learning_rate=0.0001),loss='binary_crossentropy',metrics=['accuracy'])"
   ]
  },
  {
   "cell_type": "code",
   "execution_count": 62,
   "id": "c80393de",
   "metadata": {},
   "outputs": [
    {
     "name": "stdout",
     "output_type": "stream",
     "text": [
      "Epoch 1/35\n",
      "15/15 [==============================] - 1s 17ms/step - loss: 1.0511 - accuracy: 0.4681 - val_loss: 0.6766 - val_accuracy: 0.5351\n",
      "Epoch 2/35\n",
      "15/15 [==============================] - 0s 6ms/step - loss: 0.7172 - accuracy: 0.6527 - val_loss: 0.6173 - val_accuracy: 0.8596\n",
      "Epoch 3/35\n",
      "15/15 [==============================] - 0s 7ms/step - loss: 0.5751 - accuracy: 0.7538 - val_loss: 0.5636 - val_accuracy: 0.9123\n",
      "Epoch 4/35\n",
      "15/15 [==============================] - 0s 6ms/step - loss: 0.4092 - accuracy: 0.8330 - val_loss: 0.5186 - val_accuracy: 0.9123\n",
      "Epoch 5/35\n",
      "15/15 [==============================] - 0s 7ms/step - loss: 0.3453 - accuracy: 0.8681 - val_loss: 0.4753 - val_accuracy: 0.9123\n",
      "Epoch 6/35\n",
      "15/15 [==============================] - 0s 7ms/step - loss: 0.3474 - accuracy: 0.8593 - val_loss: 0.4352 - val_accuracy: 0.9123\n",
      "Epoch 7/35\n",
      "15/15 [==============================] - 0s 7ms/step - loss: 0.2767 - accuracy: 0.8945 - val_loss: 0.3963 - val_accuracy: 0.9386\n",
      "Epoch 8/35\n",
      "15/15 [==============================] - 0s 6ms/step - loss: 0.2100 - accuracy: 0.9253 - val_loss: 0.3595 - val_accuracy: 0.9298\n",
      "Epoch 9/35\n",
      "15/15 [==============================] - 0s 6ms/step - loss: 0.2210 - accuracy: 0.9055 - val_loss: 0.3266 - val_accuracy: 0.9386\n",
      "Epoch 10/35\n",
      "15/15 [==============================] - 0s 6ms/step - loss: 0.1948 - accuracy: 0.9231 - val_loss: 0.2965 - val_accuracy: 0.9386\n",
      "Epoch 11/35\n",
      "15/15 [==============================] - 0s 6ms/step - loss: 0.1898 - accuracy: 0.9319 - val_loss: 0.2703 - val_accuracy: 0.9386\n",
      "Epoch 12/35\n",
      "15/15 [==============================] - 0s 6ms/step - loss: 0.1859 - accuracy: 0.9231 - val_loss: 0.2472 - val_accuracy: 0.9474\n",
      "Epoch 13/35\n",
      "15/15 [==============================] - 0s 7ms/step - loss: 0.1609 - accuracy: 0.9429 - val_loss: 0.2254 - val_accuracy: 0.9561\n",
      "Epoch 14/35\n",
      "15/15 [==============================] - 0s 7ms/step - loss: 0.1475 - accuracy: 0.9429 - val_loss: 0.2060 - val_accuracy: 0.9649\n",
      "Epoch 15/35\n",
      "15/15 [==============================] - 0s 7ms/step - loss: 0.1457 - accuracy: 0.9451 - val_loss: 0.1882 - val_accuracy: 0.9649\n",
      "Epoch 16/35\n",
      "15/15 [==============================] - 0s 7ms/step - loss: 0.1382 - accuracy: 0.9451 - val_loss: 0.1720 - val_accuracy: 0.9649\n",
      "Epoch 17/35\n",
      "15/15 [==============================] - 0s 6ms/step - loss: 0.1455 - accuracy: 0.9429 - val_loss: 0.1591 - val_accuracy: 0.9649\n",
      "Epoch 18/35\n",
      "15/15 [==============================] - 0s 6ms/step - loss: 0.1262 - accuracy: 0.9538 - val_loss: 0.1471 - val_accuracy: 0.9649\n",
      "Epoch 19/35\n",
      "15/15 [==============================] - 0s 6ms/step - loss: 0.1472 - accuracy: 0.9473 - val_loss: 0.1359 - val_accuracy: 0.9649\n",
      "Epoch 20/35\n",
      "15/15 [==============================] - 0s 7ms/step - loss: 0.1145 - accuracy: 0.9648 - val_loss: 0.1264 - val_accuracy: 0.9649\n",
      "Epoch 21/35\n",
      "15/15 [==============================] - 0s 6ms/step - loss: 0.1106 - accuracy: 0.9648 - val_loss: 0.1172 - val_accuracy: 0.9649\n",
      "Epoch 22/35\n",
      "15/15 [==============================] - 0s 7ms/step - loss: 0.1009 - accuracy: 0.9670 - val_loss: 0.1100 - val_accuracy: 0.9649\n",
      "Epoch 23/35\n",
      "15/15 [==============================] - 0s 7ms/step - loss: 0.1356 - accuracy: 0.9429 - val_loss: 0.1025 - val_accuracy: 0.9649\n",
      "Epoch 24/35\n",
      "15/15 [==============================] - 0s 6ms/step - loss: 0.0872 - accuracy: 0.9714 - val_loss: 0.0987 - val_accuracy: 0.9649\n",
      "Epoch 25/35\n",
      "15/15 [==============================] - 0s 6ms/step - loss: 0.1289 - accuracy: 0.9516 - val_loss: 0.0947 - val_accuracy: 0.9649\n",
      "Epoch 26/35\n",
      "15/15 [==============================] - 0s 7ms/step - loss: 0.1017 - accuracy: 0.9648 - val_loss: 0.0892 - val_accuracy: 0.9649\n",
      "Epoch 27/35\n",
      "15/15 [==============================] - 0s 7ms/step - loss: 0.1009 - accuracy: 0.9604 - val_loss: 0.0850 - val_accuracy: 0.9649\n",
      "Epoch 28/35\n",
      "15/15 [==============================] - 0s 8ms/step - loss: 0.1111 - accuracy: 0.9604 - val_loss: 0.0821 - val_accuracy: 0.9649\n",
      "Epoch 29/35\n",
      "15/15 [==============================] - 0s 8ms/step - loss: 0.1070 - accuracy: 0.9538 - val_loss: 0.0783 - val_accuracy: 0.9737\n",
      "Epoch 30/35\n",
      "15/15 [==============================] - 0s 7ms/step - loss: 0.1001 - accuracy: 0.9648 - val_loss: 0.0755 - val_accuracy: 0.9737\n",
      "Epoch 31/35\n",
      "15/15 [==============================] - 0s 7ms/step - loss: 0.0757 - accuracy: 0.9758 - val_loss: 0.0720 - val_accuracy: 0.9649\n",
      "Epoch 32/35\n",
      "15/15 [==============================] - 0s 9ms/step - loss: 0.0997 - accuracy: 0.9648 - val_loss: 0.0695 - val_accuracy: 0.9649\n",
      "Epoch 33/35\n",
      "15/15 [==============================] - 0s 8ms/step - loss: 0.0800 - accuracy: 0.9824 - val_loss: 0.0675 - val_accuracy: 0.9825\n",
      "Epoch 34/35\n",
      "15/15 [==============================] - 0s 7ms/step - loss: 0.0978 - accuracy: 0.9604 - val_loss: 0.0649 - val_accuracy: 0.9825\n",
      "Epoch 35/35\n",
      "15/15 [==============================] - 0s 8ms/step - loss: 0.0963 - accuracy: 0.9714 - val_loss: 0.0635 - val_accuracy: 0.9825\n"
     ]
    }
   ],
   "source": [
    "history = model.fit(X_train,y_train,epochs=35,verbose=1,validation_data=(X_test,y_test))"
   ]
  },
  {
   "cell_type": "markdown",
   "id": "1ae577f8",
   "metadata": {},
   "source": [
    "# Plots of Accuracy and Loss"
   ]
  },
  {
   "cell_type": "code",
   "execution_count": 63,
   "id": "5f77b77d",
   "metadata": {},
   "outputs": [],
   "source": [
    "def plotLearningCurve(history,epochs):\n",
    "  epochRange = range(1,epochs+1)\n",
    "  plt.plot(epochRange,history.history['accuracy'])\n",
    "  plt.plot(epochRange,history.history['val_accuracy'])\n",
    "  plt.title('Model Accuracy')\n",
    "  plt.xlabel('Epoch')\n",
    "  plt.ylabel('Accuracy')\n",
    "  plt.legend(['Train','Validation'],loc='upper left')\n",
    "  plt.show()\n",
    "\n",
    "  plt.plot(epochRange,history.history['loss'])\n",
    "  plt.plot(epochRange,history.history['val_loss'])\n",
    "  plt.title('Model Loss')\n",
    "  plt.xlabel('Epoch')\n",
    "  plt.ylabel('Loss')\n",
    "  plt.legend(['Train','Validation'],loc='upper left')\n",
    "  plt.show()"
   ]
  },
  {
   "cell_type": "code",
   "execution_count": 64,
   "id": "61262cf9",
   "metadata": {},
   "outputs": [
    {
     "data": {
      "image/png": "[encoded data removed]",
      "text/plain": [
       "<Figure size 432x288 with 1 Axes>"
      ]
     },
     "metadata": {
      "needs_background": "light"
     },
     "output_type": "display_data"
    },
    {
     "data": {
      "image/png": "[encoded data removed]",
      "text/plain": [
       "<Figure size 432x288 with 1 Axes>"
      ]
     },
     "metadata": {
      "needs_background": "light"
     },
     "output_type": "display_data"
    }
   ],
   "source": [
    "plotLearningCurve(history,35)"
   ]
  },
  {
   "cell_type": "code",
   "execution_count": 74,
   "id": "0e2a5f22",
   "metadata": {},
   "outputs": [
    {
     "name": "stdout",
     "output_type": "stream",
     "text": [
      "4/4 [==============================] - 0s 3ms/step - loss: 0.0635 - accuracy: 0.9825\n",
      "Model accuracy on test data: '98.25%'\n"
     ]
    }
   ],
   "source": [
    "# Evaluate the model on the test data and print the accuracy\n",
    "accuracy = model.evaluate(X_test, y_test)[1]\n",
    "print(f\"Model accuracy on test data: '{accuracy:.2%}'\")\n"
   ]
  },
  {
   "cell_type": "code",
   "execution_count": null,
   "id": "092b1cbd",
   "metadata": {},
   "outputs": [],
   "source": []
  }
 ],
 "metadata": {
  "kernelspec": {
   "display_name": "Python 3 (ipykernel)",
   "language": "python",
   "name": "python3"
  },
  "language_info": {
   "codemirror_mode": {
    "name": "ipython",
    "version": 3
   },
   "file_extension": ".py",
   "mimetype": "text/x-python",
   "name": "python",
   "nbconvert_exporter": "python",
   "pygments_lexer": "ipython3",
   "version": "3.10.6"
  }
 },
 "nbformat": 4,
 "nbformat_minor": 5
}
